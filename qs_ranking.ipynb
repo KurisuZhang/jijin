{
 "cells": [
  {
   "cell_type": "code",
   "execution_count": 90,
   "metadata": {},
   "outputs": [],
   "source": [
    "import pandas as pd\n",
    "import requests\n",
    "import json\n",
    "import re"
   ]
  },
  {
   "cell_type": "code",
   "execution_count": 91,
   "metadata": {},
   "outputs": [],
   "source": [
    "uni_name = \"uni\"\n",
    "Employability = \"ind_27\"\n",
    "Learning_Experience = \"ind_2054337\"\n",
    "Diversity_Internationalisation = \"ind_2054338\"\n",
    "Research = \"ind_2054339\"\n",
    "one, two, three, four, five = [],[],[],[],[]\n",
    "headers = {\"User-Agent\":\"Mozilla/5.0 (Macintosh; Intel Mac OS X 11_1_0) AppleWebKit/537.36 (KHTML, like Gecko) Chrome/88.0.4324.96 Safari/537.36\"}"
   ]
  },
  {
   "cell_type": "code",
   "execution_count": 92,
   "metadata": {},
   "outputs": [],
   "source": [
    "response = requests.get(\"https://www.topuniversities.com/sites/default/files/qs-rankings-data/en/3738856_indicators.txt?1620211931?v=1620413640389\",headers=headers,timeout=5)\n",
    "qs_usa_dataset = json.loads(response.text)[\"data\"]\n",
    "for i in range(len(qs_usa_dataset)):\n",
    "    one.append(re.match('.*class=\"uni-link\">(.*)</a></div></div>', qs_usa_dataset[i][uni_name]).group(1))\n",
    "    two.append(float(re.match('.*class=\"td-wrap-in\">(.*)</div></div>', qs_usa_dataset[i][Employability]).group(1)))\n",
    "    three.append(float(re.match('.*class=\"td-wrap-in\">(.*)</div></div>', qs_usa_dataset[i][Learning_Experience]).group(1)))\n",
    "    four.append(float(re.match('.*class=\"td-wrap-in\">(.*)</div></div>', qs_usa_dataset[i][Diversity_Internationalisation]).group(1)))\n",
    "    five.append(float(re.match('.*class=\"td-wrap-in\">(.*)</div></div>', qs_usa_dataset[i][Research]).group(1)))"
   ]
  },
  {
   "cell_type": "code",
   "execution_count": 93,
   "metadata": {},
   "outputs": [],
   "source": [
    "df = pd.DataFrame({\n",
    "    \"name\":one,\n",
    "    \"Employability\":two,\n",
    "    \"Learning_Experience\":three,\n",
    "    \"Diversity_Inter\":four,\n",
    "    \"Research\":five\n",
    "})"
   ]
  },
  {
   "cell_type": "code",
   "execution_count": 94,
   "metadata": {},
   "outputs": [
    {
     "data": {
      "text/html": [
       "<div>\n",
       "<style scoped>\n",
       "    .dataframe tbody tr th:only-of-type {\n",
       "        vertical-align: middle;\n",
       "    }\n",
       "\n",
       "    .dataframe tbody tr th {\n",
       "        vertical-align: top;\n",
       "    }\n",
       "\n",
       "    .dataframe thead th {\n",
       "        text-align: right;\n",
       "    }\n",
       "</style>\n",
       "<table border=\"1\" class=\"dataframe\">\n",
       "  <thead>\n",
       "    <tr style=\"text-align: right;\">\n",
       "      <th></th>\n",
       "      <th>name</th>\n",
       "      <th>Employability</th>\n",
       "      <th>Learning_Experience</th>\n",
       "      <th>Diversity_Inter</th>\n",
       "      <th>Research</th>\n",
       "    </tr>\n",
       "  </thead>\n",
       "  <tbody>\n",
       "    <tr>\n",
       "      <th>0</th>\n",
       "      <td>Harvard University</td>\n",
       "      <td>100.0</td>\n",
       "      <td>96.8</td>\n",
       "      <td>76.0</td>\n",
       "      <td>100.0</td>\n",
       "    </tr>\n",
       "    <tr>\n",
       "      <th>1</th>\n",
       "      <td>Stanford University</td>\n",
       "      <td>83.4</td>\n",
       "      <td>96.8</td>\n",
       "      <td>82.0</td>\n",
       "      <td>93.5</td>\n",
       "    </tr>\n",
       "    <tr>\n",
       "      <th>2</th>\n",
       "      <td>Massachusetts Institute of Technology (MIT)</td>\n",
       "      <td>75.4</td>\n",
       "      <td>96.8</td>\n",
       "      <td>80.0</td>\n",
       "      <td>90.6</td>\n",
       "    </tr>\n",
       "    <tr>\n",
       "      <th>3</th>\n",
       "      <td>University of California, Berkeley (UCB)</td>\n",
       "      <td>57.9</td>\n",
       "      <td>81.4</td>\n",
       "      <td>78.0</td>\n",
       "      <td>91.7</td>\n",
       "    </tr>\n",
       "    <tr>\n",
       "      <th>4</th>\n",
       "      <td>University of California, Los Angeles (UCLA)</td>\n",
       "      <td>57.7</td>\n",
       "      <td>90.5</td>\n",
       "      <td>84.0</td>\n",
       "      <td>78.7</td>\n",
       "    </tr>\n",
       "  </tbody>\n",
       "</table>\n",
       "</div>"
      ],
      "text/plain": [
       "                                           name  Employability  \\\n",
       "0                            Harvard University          100.0   \n",
       "1                           Stanford University           83.4   \n",
       "2  Massachusetts Institute of Technology (MIT)            75.4   \n",
       "3      University of California, Berkeley (UCB)           57.9   \n",
       "4  University of California, Los Angeles (UCLA)           57.7   \n",
       "\n",
       "   Learning_Experience  Diversity_Inter  Research  \n",
       "0                 96.8             76.0     100.0  \n",
       "1                 96.8             82.0      93.5  \n",
       "2                 96.8             80.0      90.6  \n",
       "3                 81.4             78.0      91.7  \n",
       "4                 90.5             84.0      78.7  "
      ]
     },
     "execution_count": 94,
     "metadata": {},
     "output_type": "execute_result"
    }
   ],
   "source": [
    "df.head()"
   ]
  },
  {
   "cell_type": "code",
   "execution_count": 97,
   "metadata": {},
   "outputs": [],
   "source": [
    "df.to_excel(\"qsrank.xlsx\")"
   ]
  },
  {
   "cell_type": "code",
   "execution_count": null,
   "metadata": {},
   "outputs": [],
   "source": []
  }
 ],
 "metadata": {
  "kernelspec": {
   "display_name": "Python 3",
   "language": "python",
   "name": "python3"
  },
  "language_info": {
   "codemirror_mode": {
    "name": "ipython",
    "version": 3
   },
   "file_extension": ".py",
   "mimetype": "text/x-python",
   "name": "python",
   "nbconvert_exporter": "python",
   "pygments_lexer": "ipython3",
   "version": "3.7.3"
  },
  "toc": {
   "base_numbering": 1,
   "nav_menu": {},
   "number_sections": true,
   "sideBar": true,
   "skip_h1_title": false,
   "title_cell": "Table of Contents",
   "title_sidebar": "Contents",
   "toc_cell": false,
   "toc_position": {},
   "toc_section_display": true,
   "toc_window_display": false
  },
  "varInspector": {
   "cols": {
    "lenName": 16,
    "lenType": 16,
    "lenVar": 40
   },
   "kernels_config": {
    "python": {
     "delete_cmd_postfix": "",
     "delete_cmd_prefix": "del ",
     "library": "var_list.py",
     "varRefreshCmd": "print(var_dic_list())"
    },
    "r": {
     "delete_cmd_postfix": ") ",
     "delete_cmd_prefix": "rm(",
     "library": "var_list.r",
     "varRefreshCmd": "cat(var_dic_list()) "
    }
   },
   "types_to_exclude": [
    "module",
    "function",
    "builtin_function_or_method",
    "instance",
    "_Feature"
   ],
   "window_display": false
  }
 },
 "nbformat": 4,
 "nbformat_minor": 4
}
