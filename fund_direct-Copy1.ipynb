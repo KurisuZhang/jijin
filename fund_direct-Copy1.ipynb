{
 "cells": [
  {
   "cell_type": "code",
   "execution_count": 1,
   "metadata": {},
   "outputs": [],
   "source": [
    "import requests\n",
    "import json\n",
    "import re"
   ]
  },
  {
   "cell_type": "code",
   "execution_count": 23,
   "metadata": {},
   "outputs": [],
   "source": [
    "my_funds = {\"易方达蓝筹精选混合\":\"005827\",\"华宝科技ETF联接C\":\"007874\",\"华宝券商ETF联接C\":\"007531\",\"诺安成长混合\":\"320007\",\"华夏中证5G通信主题ETF联接C\":\"008087\"}\n",
    "valuation = {}\n",
    "markdown_format = \"\"\n",
    "headers = {\"User-Agent\":\"Mozilla/5.0 (Macintosh; Intel Mac OS X 11_1_0) AppleWebKit/537.36 (KHTML, like Gecko) Chrome/88.0.4324.96 Safari/537.36\"}"
   ]
  },
  {
   "cell_type": "code",
   "execution_count": 24,
   "metadata": {},
   "outputs": [],
   "source": [
    "for fund_name in my_funds:\n",
    "    \n",
    "    for i in range(3):\n",
    "        try:\n",
    "            response = requests.get(\"http://fundgz.1234567.com.cn/js/\" + my_funds[fund_name] + \".js\",headers=headers,timeout=5)\n",
    "            break\n",
    "        except Exception as e:\n",
    "            print(e)\n",
    "    \n",
    "    fond_re = re.match('jsonpgz\\((.*)\\)', response.text)\n",
    "    fond_re = fond_re.group(1)\n",
    "    fond_dict = json.loads(fond_re)\n",
    "    guess_persent = float(fond_dict[\"gszzl\"])\n",
    "    valuation[fund_name] = guess_persent\n",
    "    \n",
    "    markdown_format = markdown_format + \"**\"+ fund_name +\"**\" + \":  \" + fond_dict[\"gszzl\"]\n",
    "    if guess_persent <= 0:\n",
    "        markdown_format = markdown_format +\"  📉  \"\n",
    "        markdown_format = markdown_format + round(abs(guess_persent))* \"🟢\" + \"  \\n\"\n",
    "    else:\n",
    "        markdown_format = markdown_format +\"  📈  \"\n",
    "        markdown_format = markdown_format + round(abs(guess_persent))* \"🔴\" + \"  \\n\""
   ]
  },
  {
   "cell_type": "code",
   "execution_count": 25,
   "metadata": {
    "scrolled": true
   },
   "outputs": [
    {
     "name": "stdout",
     "output_type": "stream",
     "text": [
      "{'易方达蓝筹精选混合': -1.44, '华宝科技ETF联接C': -4.6, '华宝券商ETF联接C': -0.48, '诺安成长混合': -3.38, '华夏中证5G通信主题ETF联接C': -3.95}\n",
      "{\"fundcode\":\"008087\",\"name\":\"华夏中证5G通信主题ETF联接C\",\"jzrq\":\"2021-01-27\",\"dwjz\":\"1.1922\",\"gsz\":\"1.1451\",\"gszzl\":\"-3.95\",\"gztime\":\"2021-01-28 15:00\"}\n",
      "**易方达蓝筹精选混合**:  -1.44  📉  🟢  \n",
      "**华宝科技ETF联接C**:  -4.60  📉  🟢🟢🟢🟢🟢  \n",
      "**华宝券商ETF联接C**:  -0.48  📉    \n",
      "**诺安成长混合**:  -3.38  📉  🟢🟢🟢  \n",
      "**华夏中证5G通信主题ETF联接C**:  -3.95  📉  🟢🟢🟢🟢  \n",
      "\n"
     ]
    }
   ],
   "source": [
    "print(valuation)\n",
    "print(fond_re)\n",
    "print(markdown_format)"
   ]
  },
  {
   "cell_type": "code",
   "execution_count": 13,
   "metadata": {},
   "outputs": [],
   "source": [
    "markdown_format = \"<style\\n  type=\\\"text/css\\\">\\nh1 {color:red;}\\n\\np {color:blue;}\\n</style>\\nokay\""
   ]
  },
  {
   "cell_type": "code",
   "execution_count": 14,
   "metadata": {},
   "outputs": [
    {
     "data": {
      "text/plain": [
       "<Response [200]>"
      ]
     },
     "execution_count": 14,
     "metadata": {},
     "output_type": "execute_result"
    }
   ],
   "source": [
    "data = {\"text\": \"今天基金结果\",\"desp\":str(markdown_format)}\n",
    "requests.post(\"https://sc.ftqq.com/SCU149062T9b5ea6937a44ecee1bf7bdab01de37e65ffc4a5294891.send\",params=data)"
   ]
  },
  {
   "cell_type": "code",
   "execution_count": 18,
   "metadata": {},
   "outputs": [
    {
     "name": "stdout",
     "output_type": "stream",
     "text": [
      "HTTPConnectionPool(host='127.0.0.1', port=7890): Max retries exceeded with url: http://fundgz.123456.com.cn/js/008087.js (Caused by ProxyError('Cannot connect to proxy.', RemoteDisconnected('Remote end closed connection without response')))\n",
      "HTTPConnectionPool(host='127.0.0.1', port=7890): Max retries exceeded with url: http://fundgz.123456.com.cn/js/008087.js (Caused by ProxyError('Cannot connect to proxy.', RemoteDisconnected('Remote end closed connection without response')))\n",
      "HTTPConnectionPool(host='127.0.0.1', port=7890): Max retries exceeded with url: http://fundgz.123456.com.cn/js/008087.js (Caused by ProxyError('Cannot connect to proxy.', RemoteDisconnected('Remote end closed connection without response')))\n"
     ]
    }
   ],
   "source": []
  },
  {
   "cell_type": "code",
   "execution_count": null,
   "metadata": {},
   "outputs": [],
   "source": []
  }
 ],
 "metadata": {
  "kernelspec": {
   "display_name": "Python 3",
   "language": "python",
   "name": "python3"
  },
  "language_info": {
   "codemirror_mode": {
    "name": "ipython",
    "version": 3
   },
   "file_extension": ".py",
   "mimetype": "text/x-python",
   "name": "python",
   "nbconvert_exporter": "python",
   "pygments_lexer": "ipython3",
   "version": "3.7.3"
  },
  "toc": {
   "base_numbering": 1,
   "nav_menu": {},
   "number_sections": true,
   "sideBar": true,
   "skip_h1_title": false,
   "title_cell": "Table of Contents",
   "title_sidebar": "Contents",
   "toc_cell": false,
   "toc_position": {},
   "toc_section_display": true,
   "toc_window_display": false
  },
  "varInspector": {
   "cols": {
    "lenName": 16,
    "lenType": 16,
    "lenVar": 40
   },
   "kernels_config": {
    "python": {
     "delete_cmd_postfix": "",
     "delete_cmd_prefix": "del ",
     "library": "var_list.py",
     "varRefreshCmd": "print(var_dic_list())"
    },
    "r": {
     "delete_cmd_postfix": ") ",
     "delete_cmd_prefix": "rm(",
     "library": "var_list.r",
     "varRefreshCmd": "cat(var_dic_list()) "
    }
   },
   "types_to_exclude": [
    "module",
    "function",
    "builtin_function_or_method",
    "instance",
    "_Feature"
   ],
   "window_display": false
  }
 },
 "nbformat": 4,
 "nbformat_minor": 4
}
